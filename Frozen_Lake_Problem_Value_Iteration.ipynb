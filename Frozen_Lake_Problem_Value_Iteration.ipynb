{
  "cells": [
    {
      "cell_type": "markdown",
      "metadata": {
        "collapsed": true,
        "id": "C4nL5Ltznru5"
      },
      "source": [
        "# Solving the Frozen Lake Problem with Value Iteration\n",
        "\n",
        "The frozen lake environment is shown:![Capture.PNG](data:image/png;base64,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)"
      ]
    },
    {
      "cell_type": "markdown",
      "metadata": {
        "id": "q7fOkRVCnru8"
      },
      "source": [
        "  \n",
        "* S implies the starting state\n",
        "* F implies the frozen states\n",
        "* H implies the hold states\n",
        "* G implies the goal state\n",
        "\n",
        "The goal is to reach the goal state G from the starting state S without visiting the hole states H."
      ]
    },
    {
      "cell_type": "markdown",
      "metadata": {
        "id": "HaWg_-Zfnru9"
      },
      "source": [
        "How can we achieve this goal? That is, how can we reach the state G from S without\n",
        "visiting H? We learned that the optimal policy tells the agent to perform correct action in\n",
        "each state. So, if we find the optimal policy then we can reach the state G from S visiting the state H. Okay, how to find the optimal policy? We can use the value iteration method\n",
        "we just learned to find the optimal policy.\n",
        "\n",
        "\n",
        "Remember that all our states (S to G) will be encoded from 0 to 16 and all the four actions -\n",
        "left, down, up, right will be encoded from 0 to 3 in the gym toolkit.\n",
        "So, in this section, we will learn how to find the optimal policy using the value iteration\n",
        "method so that the agent can reach the state G from S without visiting H."
      ]
    },
    {
      "cell_type": "markdown",
      "metadata": {
        "id": "A5edlRSnnru9"
      },
      "source": [
        "First, let's import the necessary libraries:"
      ]
    },
    {
      "cell_type": "code",
      "execution_count": 14,
      "metadata": {
        "id": "0pwWf1Zknru9"
      },
      "outputs": [],
      "source": [
        "#!pip install gymnasium\n",
        "import gymnasium\n",
        "import numpy as np"
      ]
    },
    {
      "cell_type": "markdown",
      "metadata": {
        "id": "6lVX8_aunru-"
      },
      "source": [
        "Now, let's create the frozen lake environment using gym:"
      ]
    },
    {
      "cell_type": "code",
      "execution_count": 7,
      "metadata": {
        "id": "Wp5MV5MInru-"
      },
      "outputs": [],
      "source": [
        "env = gymnasium.make('FrozenLake-v1',render_mode=\"rgb_array\")"
      ]
    },
    {
      "cell_type": "markdown",
      "metadata": {
        "id": "_rI3KTdgnru-"
      },
      "source": [
        "Let's look at the frozen lake environment using the render function:"
      ]
    },
    {
      "cell_type": "code",
      "execution_count": 15,
      "metadata": {
        "id": "1GOxWOAInru-"
      },
      "outputs": [],
      "source": [
        "env.reset()\n",
        "env.render()\n",
        "env = env.unwrapped"
      ]
    },
    {
      "cell_type": "code",
      "source": [
        "env.render()"
      ],
      "metadata": {
        "colab": {
          "base_uri": "https://localhost:8080/",
          "height": 296
        },
        "id": "UQ1N-AtppLnF",
        "outputId": "498589c5-bc5d-485d-db4f-deaf4a1a4039"
      },
      "execution_count": 16,
      "outputs": [
        {
          "output_type": "execute_result",
          "data": {
            "text/plain": [
              "array([[[180, 200, 230],\n",
              "        [180, 200, 230],\n",
              "        [180, 200, 230],\n",
              "        ...,\n",
              "        [180, 200, 230],\n",
              "        [180, 200, 230],\n",
              "        [180, 200, 230]],\n",
              "\n",
              "       [[180, 200, 230],\n",
              "        [204, 230, 255],\n",
              "        [204, 230, 255],\n",
              "        ...,\n",
              "        [204, 230, 255],\n",
              "        [204, 230, 255],\n",
              "        [180, 200, 230]],\n",
              "\n",
              "       [[180, 200, 230],\n",
              "        [235, 245, 249],\n",
              "        [204, 230, 255],\n",
              "        ...,\n",
              "        [204, 230, 255],\n",
              "        [204, 230, 255],\n",
              "        [180, 200, 230]],\n",
              "\n",
              "       ...,\n",
              "\n",
              "       [[180, 200, 230],\n",
              "        [235, 245, 249],\n",
              "        [235, 245, 249],\n",
              "        ...,\n",
              "        [204, 230, 255],\n",
              "        [235, 245, 249],\n",
              "        [180, 200, 230]],\n",
              "\n",
              "       [[180, 200, 230],\n",
              "        [235, 245, 249],\n",
              "        [235, 245, 249],\n",
              "        ...,\n",
              "        [204, 230, 255],\n",
              "        [204, 230, 255],\n",
              "        [180, 200, 230]],\n",
              "\n",
              "       [[180, 200, 230],\n",
              "        [180, 200, 230],\n",
              "        [180, 200, 230],\n",
              "        ...,\n",
              "        [180, 200, 230],\n",
              "        [180, 200, 230],\n",
              "        [180, 200, 230]]], dtype=uint8)"
            ],
            "text/html": [
              "<style>\n",
              "      .ndarray_repr .ndarray_raw_data {\n",
              "        display: none;\n",
              "      }\n",
              "      .ndarray_repr.show_array .ndarray_raw_data {\n",
              "        display: block;\n",
              "      }\n",
              "      .ndarray_repr.show_array .ndarray_image_preview {\n",
              "        display: none;\n",
              "      }\n",
              "      </style>\n",
              "      <div id=\"id-ac60f349-d829-4732-8420-bbc2d6459ea5\" class=\"ndarray_repr\"><pre>ndarray (256, 256, 3) <button style=\"padding: 0 2px;\">show data</button></pre><img src=\"data:image/png;base64,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\" class=\"ndarray_image_preview\" /><pre class=\"ndarray_raw_data\">array([[[180, 200, 230],\n",
              "        [180, 200, 230],\n",
              "        [180, 200, 230],\n",
              "        ...,\n",
              "        [180, 200, 230],\n",
              "        [180, 200, 230],\n",
              "        [180, 200, 230]],\n",
              "\n",
              "       [[180, 200, 230],\n",
              "        [204, 230, 255],\n",
              "        [204, 230, 255],\n",
              "        ...,\n",
              "        [204, 230, 255],\n",
              "        [204, 230, 255],\n",
              "        [180, 200, 230]],\n",
              "\n",
              "       [[180, 200, 230],\n",
              "        [235, 245, 249],\n",
              "        [204, 230, 255],\n",
              "        ...,\n",
              "        [204, 230, 255],\n",
              "        [204, 230, 255],\n",
              "        [180, 200, 230]],\n",
              "\n",
              "       ...,\n",
              "\n",
              "       [[180, 200, 230],\n",
              "        [235, 245, 249],\n",
              "        [235, 245, 249],\n",
              "        ...,\n",
              "        [204, 230, 255],\n",
              "        [235, 245, 249],\n",
              "        [180, 200, 230]],\n",
              "\n",
              "       [[180, 200, 230],\n",
              "        [235, 245, 249],\n",
              "        [235, 245, 249],\n",
              "        ...,\n",
              "        [204, 230, 255],\n",
              "        [204, 230, 255],\n",
              "        [180, 200, 230]],\n",
              "\n",
              "       [[180, 200, 230],\n",
              "        [180, 200, 230],\n",
              "        [180, 200, 230],\n",
              "        ...,\n",
              "        [180, 200, 230],\n",
              "        [180, 200, 230],\n",
              "        [180, 200, 230]]], dtype=uint8)</pre></div><script>\n",
              "      (() => {\n",
              "      const titles = ['show data', 'hide data'];\n",
              "      let index = 0\n",
              "      document.querySelector('#id-ac60f349-d829-4732-8420-bbc2d6459ea5 button').onclick = (e) => {\n",
              "        document.querySelector('#id-ac60f349-d829-4732-8420-bbc2d6459ea5').classList.toggle('show_array');\n",
              "        index = (++index) % 2;\n",
              "        document.querySelector('#id-ac60f349-d829-4732-8420-bbc2d6459ea5 button').textContent = titles[index];\n",
              "        e.preventDefault();\n",
              "        e.stopPropagation();\n",
              "      }\n",
              "      })();\n",
              "    </script>"
            ]
          },
          "metadata": {},
          "execution_count": 16
        }
      ]
    },
    {
      "cell_type": "markdown",
      "metadata": {
        "id": "rTNJ86gxnru_"
      },
      "source": [
        "As we can notice, our agent is in the state S and it has to reach the state G without visiting\n",
        "the states H. So, let's learn how to compute the optimal policy using the value iteration\n",
        "method."
      ]
    },
    {
      "cell_type": "markdown",
      "metadata": {
        "id": "p8F6oNOHnru_"
      },
      "source": [
        "First, let's learn how to compute the optimal value function and then we will see how to\n",
        "extract the optimal policy from the computed optimal value function.\n",
        "\n",
        "\n",
        "## Computing optimal value function\n",
        "\n",
        "We will define a function called `value_iteration` where we compute the optimal value\n",
        "function iteratively by taking maximum over Q function. For\n",
        "better understanding, let's closely look at the every line of the function and then we look at\n",
        "the complete function at the end which gives us more clarity.\n",
        "\n",
        "\n",
        "\n",
        "Define `value_iteration` function which takes the environment as a parameter:\n",
        "    \n",
        "    "
      ]
    },
    {
      "cell_type": "code",
      "execution_count": 9,
      "metadata": {
        "id": "sccGUgcGnru_"
      },
      "outputs": [],
      "source": [
        "def value_iteration(env):\n",
        "\n",
        "    #set the number of iterations\n",
        "    num_iterations = 1000\n",
        "\n",
        "    #set the threshold number for checking the convergence of the value function\n",
        "    threshold = 1e-20\n",
        "\n",
        "    #we also set the discount factor\n",
        "    gamma = 1.0\n",
        "\n",
        "    #now, we will initialize the value table, with the value of all states to zero\n",
        "    value_table = np.zeros(env.observation_space.n)\n",
        "\n",
        "    #for every iteration\n",
        "    for i in range(num_iterations):\n",
        "\n",
        "        #update the value table, that is, we learned that on every iteration, we use the updated value\n",
        "        #table (state values) from the previous iteration\n",
        "        updated_value_table = np.copy(value_table)\n",
        "\n",
        "        #now, we compute the value function (state value) by taking the maximum of Q value.\n",
        "\n",
        "        #thus, for each state, we compute the Q values of all the actions in the state and then\n",
        "        #we update the value of the state as the one which has maximum Q value as shown below:\n",
        "        for s in range(env.observation_space.n):\n",
        "\n",
        "            Q_values = [sum([prob*(r + gamma * updated_value_table[s_])\n",
        "                             for prob, s_, r, _ in env.P[s][a]])\n",
        "                                   for a in range(env.action_space.n)]\n",
        "\n",
        "            value_table[s] = max(Q_values)\n",
        "\n",
        "        #after computing the value table, that is, value of all the states, we check whether the\n",
        "        #difference between value table obtained in the current iteration and previous iteration is\n",
        "        #less than or equal to a threshold value if it is less then we break the loop and return the\n",
        "        #value table as our optimal value function as shown below:\n",
        "\n",
        "        if (np.sum(np.fabs(updated_value_table - value_table)) <= threshold):\n",
        "             break\n",
        "\n",
        "    return value_table"
      ]
    },
    {
      "cell_type": "markdown",
      "metadata": {
        "collapsed": true,
        "id": "LjUwkKUanru_"
      },
      "source": [
        "Now, that we have computed the optimal value function by taking the maximum over Q\n",
        "values, let's see how to extract the optimal policy from the optimal value function.\n",
        "\n",
        "\n",
        "## Extracting optimal policy from the optimal value function\n",
        "\n",
        "In the previous step, we computed the optimal value function. Now, let see how to extract\n",
        "the optimal policy from the computed optimal value function.\n",
        "\n",
        "\n",
        "First, we define a function called `extract_policy` which takes the `value_table` as a\n",
        "parameter:\n"
      ]
    },
    {
      "cell_type": "code",
      "execution_count": 10,
      "metadata": {
        "id": "DehjVMeinru_"
      },
      "outputs": [],
      "source": [
        "def extract_policy(value_table):\n",
        "\n",
        "    #set the discount factor\n",
        "    gamma = 1.0\n",
        "\n",
        "    #first, we initialize the policy with zeros, that is, first, we set the actions for all the states to\n",
        "    #be zero\n",
        "    policy = np.zeros(env.observation_space.n)\n",
        "\n",
        "    #now, we compute the Q function using the optimal value function obtained from the\n",
        "    #previous step. After computing the Q function, we can extract policy by selecting action which has\n",
        "    #maximum Q value. Since we are computing the Q function using the optimal value\n",
        "    #function, the policy extracted from the Q function will be the optimal policy.\n",
        "\n",
        "    #As shown below, for each state, we compute the Q values for all the actions in the state and\n",
        "    #then we extract policy by selecting the action which has maximum Q value.\n",
        "\n",
        "    #for each state\n",
        "    for s in range(env.observation_space.n):\n",
        "\n",
        "        #compute the Q value of all the actions in the state\n",
        "        Q_values = [sum([prob*(r + gamma * value_table[s_])\n",
        "                             for prob, s_, r, _ in env.P[s][a]])\n",
        "                                   for a in range(env.action_space.n)]\n",
        "\n",
        "        #extract policy by selecting the action which has maximum Q value\n",
        "        policy[s] = np.argmax(np.array(Q_values))\n",
        "\n",
        "    return policy"
      ]
    },
    {
      "cell_type": "markdown",
      "metadata": {
        "collapsed": true,
        "id": "sHCm5Z69nru_"
      },
      "source": [
        "That's it! Now, we will see how to extract the optimal policy in our frozen lake\n",
        "environment.\n",
        "\n",
        "## Putting it all together\n",
        "We learn that in the frozen lake environment our goal is to find the optimal policy which\n",
        "selects the correct action in each state so that we can reach the state G from the state\n",
        "A without visiting the hole states.\n",
        "\n",
        "First, we compute the optimal value function using our `value_iteration` function by\n",
        "passing our frozen lake environment as the parameter:\n"
      ]
    },
    {
      "cell_type": "code",
      "execution_count": 11,
      "metadata": {
        "id": "BSPtzZH_nru_"
      },
      "outputs": [],
      "source": [
        "optimal_value_function = value_iteration(env=env)"
      ]
    },
    {
      "cell_type": "markdown",
      "metadata": {
        "id": "_LHPoYPWnru_"
      },
      "source": [
        "Next, we extract the optimal policy from the optimal value function using our\n",
        "extract_policy function as shown below:"
      ]
    },
    {
      "cell_type": "code",
      "execution_count": 12,
      "metadata": {
        "id": "997FeNmDnru_"
      },
      "outputs": [],
      "source": [
        "optimal_policy = extract_policy(optimal_value_function)"
      ]
    },
    {
      "cell_type": "markdown",
      "metadata": {
        "id": "ciFdrB8mnru_"
      },
      "source": [
        "We can print the obtained optimal policy:"
      ]
    },
    {
      "cell_type": "code",
      "execution_count": 13,
      "metadata": {
        "colab": {
          "base_uri": "https://localhost:8080/"
        },
        "id": "1jumTTMWnrvA",
        "outputId": "6d2f1a75-0d7a-4c7c-a5e6-e0164b13865b"
      },
      "outputs": [
        {
          "output_type": "stream",
          "name": "stdout",
          "text": [
            "[0. 3. 3. 3. 0. 0. 0. 0. 3. 1. 0. 0. 0. 2. 1. 0.]\n"
          ]
        }
      ],
      "source": [
        "print(optimal_policy)"
      ]
    },
    {
      "cell_type": "markdown",
      "metadata": {
        "id": "y2NzD4zAnrvA"
      },
      "source": [
        "As we can observe, our optimal policy tells us to\n",
        "perform the correct action in each state.\n",
        ""
      ]
    }
  ],
  "metadata": {
    "kernelspec": {
      "display_name": "Python 3",
      "language": "python",
      "name": "python3"
    },
    "language_info": {
      "codemirror_mode": {
        "name": "ipython",
        "version": 3
      },
      "file_extension": ".py",
      "mimetype": "text/x-python",
      "name": "python",
      "nbconvert_exporter": "python",
      "pygments_lexer": "ipython3",
      "version": "3.6.9"
    },
    "colab": {
      "provenance": []
    }
  },
  "nbformat": 4,
  "nbformat_minor": 0
}