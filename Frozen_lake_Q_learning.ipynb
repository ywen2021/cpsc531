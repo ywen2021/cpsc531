{
  "nbformat": 4,
  "nbformat_minor": 0,
  "metadata": {
    "colab": {
      "provenance": [],
      "gpuType": "T4"
    },
    "kernelspec": {
      "name": "python3",
      "display_name": "Python 3"
    },
    "language_info": {
      "name": "python"
    },
    "accelerator": "GPU"
  },
  "cells": [
    {
      "cell_type": "code",
      "execution_count": 3,
      "metadata": {
        "colab": {
          "base_uri": "https://localhost:8080/"
        },
        "id": "oXdSf-zfMEaD",
        "outputId": "8f05b5f6-93fe-4e0d-821a-a4c35ee813ee"
      },
      "outputs": [
        {
          "output_type": "stream",
          "name": "stdout",
          "text": [
            "Agent success rate: 100.00%\n"
          ]
        }
      ],
      "source": [
        "import numpy as np\n",
        "import gymnasium as gym\n",
        "\n",
        "def q_learning(env, episodes=10000, alpha=0.1, gamma=0.99, epsilon=1.0, epsilon_decay=0.999, min_epsilon=0.01):\n",
        "    state_size = env.observation_space.n\n",
        "    action_size = env.action_space.n\n",
        "    q_table = np.zeros((state_size, action_size))\n",
        "\n",
        "    for episode in range(episodes):\n",
        "        state, _ = env.reset()\n",
        "        done = False\n",
        "\n",
        "        while not done:\n",
        "            if np.random.rand() < epsilon:\n",
        "                action = env.action_space.sample()  # Explore\n",
        "            else:\n",
        "                action = np.argmax(q_table[state, :])  # Exploit best known action\n",
        "\n",
        "            next_state, reward, terminated, truncated, _ = env.step(action)\n",
        "            done = terminated or truncated\n",
        "\n",
        "            # Update Q-value using Bellman equation\n",
        "            q_table[state, action] = (1 - alpha) * q_table[state, action] + \\\n",
        "                                     alpha * (reward + gamma * np.max(q_table[next_state, :]))\n",
        "\n",
        "            state = next_state\n",
        "\n",
        "        epsilon = max(min_epsilon, epsilon * epsilon_decay)  # Decay epsilon\n",
        "\n",
        "    return q_table\n",
        "\n",
        "def test_agent(env, q_table, episodes=100):\n",
        "    total_rewards = 0\n",
        "    for _ in range(episodes):\n",
        "        state, _ = env.reset()\n",
        "        done = False\n",
        "        while not done:\n",
        "            action = np.argmax(q_table[state, :])\n",
        "            state, reward, terminated, truncated, _ = env.step(action)\n",
        "            done = terminated or truncated\n",
        "            total_rewards += reward\n",
        "\n",
        "    print(f'Agent success rate: {total_rewards / episodes * 100:.2f}%')\n",
        "\n",
        "env = gym.make(\"FrozenLake-v1\", is_slippery=False, render_mode=None)\n",
        "q_table = q_learning(env)\n",
        "test_agent(env, q_table)\n"
      ]
    },
    {
      "cell_type": "code",
      "source": [
        "q_table"
      ],
      "metadata": {
        "colab": {
          "base_uri": "https://localhost:8080/"
        },
        "id": "P9l75-4oMYLg",
        "outputId": "39e431a5-471a-4959-df59-704835e7edee"
      },
      "execution_count": 4,
      "outputs": [
        {
          "output_type": "execute_result",
          "data": {
            "text/plain": [
              "array([[0.94148015, 0.93206534, 0.95099005, 0.94148015],\n",
              "       [0.94148015, 0.        , 0.96059601, 0.95099005],\n",
              "       [0.95099005, 0.970299  , 0.95099004, 0.96059601],\n",
              "       [0.96059601, 0.        , 0.85121365, 0.78568197],\n",
              "       [0.87652726, 0.65169467, 0.        , 0.94148015],\n",
              "       [0.        , 0.        , 0.        , 0.        ],\n",
              "       [0.        , 0.9801    , 0.        , 0.960596  ],\n",
              "       [0.        , 0.        , 0.        , 0.        ],\n",
              "       [0.27634971, 0.        , 0.94257996, 0.38758949],\n",
              "       [0.7568196 , 0.68400809, 0.98009999, 0.        ],\n",
              "       [0.9702986 , 0.99      , 0.        , 0.97029895],\n",
              "       [0.        , 0.        , 0.        , 0.        ],\n",
              "       [0.        , 0.        , 0.        , 0.        ],\n",
              "       [0.        , 0.74892594, 0.98999992, 0.68484412],\n",
              "       [0.98009904, 0.98999999, 1.        , 0.98009995],\n",
              "       [0.        , 0.        , 0.        , 0.        ]])"
            ]
          },
          "metadata": {},
          "execution_count": 4
        }
      ]
    }
  ]
}