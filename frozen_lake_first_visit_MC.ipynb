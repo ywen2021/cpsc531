{
  "nbformat": 4,
  "nbformat_minor": 0,
  "metadata": {
    "colab": {
      "provenance": []
    },
    "kernelspec": {
      "name": "python3",
      "display_name": "Python 3"
    },
    "language_info": {
      "name": "python"
    }
  },
  "cells": [
    {
      "cell_type": "code",
      "execution_count": null,
      "metadata": {
        "id": "65oUUccumhWW"
      },
      "outputs": [],
      "source": [
        "import gymnasium as gym\n",
        "import numpy as np\n",
        "import matplotlib.pyplot as plt\n",
        "from collections import defaultdict\n",
        "\n",
        "def first_visit_monte_carlo(env, gamma=0.99, episodes=5000):\n",
        "    env = env.unwrapped\n",
        "    n_states = env.observation_space.n\n",
        "    n_actions = env.action_space.n\n",
        "    returns = defaultdict(list)\n",
        "    policy = np.random.choice(n_actions, n_states)\n",
        "    Q = np.zeros((n_states, n_actions))\n",
        "\n",
        "    for _ in range(episodes):\n",
        "        state = env.reset()[0]\n",
        "        episode = []\n",
        "        done = False\n",
        "\n",
        "        while not done:\n",
        "            action = np.random.choice(n_actions)\n",
        "            next_state, reward, terminated, truncated, _ = env.step(action)\n",
        "            episode.append((state, action, reward))\n",
        "            state = next_state\n",
        "            done = terminated or truncated\n",
        "\n",
        "        G = 0\n",
        "        visited = set()\n",
        "        for state, action, reward in reversed(episode):\n",
        "            G = gamma * G + reward\n",
        "            if (state, action) not in visited:\n",
        "                returns[(state, action)].append(G)\n",
        "                Q[state, action] = np.mean(returns[(state, action)])\n",
        "                policy[state] = np.argmax(Q[state])\n",
        "                visited.add((state, action))\n",
        "\n",
        "    return policy\n",
        "\n",
        "def visualize_policy(policy, env):\n",
        "    actions = ['←', '↓', '→', '↑']\n",
        "    grid_size = int(np.sqrt(env.observation_space.n))\n",
        "    policy_grid = np.array([actions[a] for a in policy]).reshape((grid_size, grid_size))\n",
        "\n",
        "    print(\"Optimal Policy:\")\n",
        "    for row in policy_grid:\n",
        "        print(\" \".join(row))\n",
        "\n",
        "    plt.figure(figsize=(5, 5))\n",
        "    plt.table(cellText=policy_grid, cellLoc='center', loc='center', cellColours=[['w'] * grid_size] * grid_size)\n",
        "    plt.axis('off')\n",
        "    plt.show()\n",
        "\n",
        "\n",
        "\n",
        "\n"
      ]
    },
    {
      "cell_type": "code",
      "source": [
        "env = gym.make(\"FrozenLake-v1\", render_mode=None, is_slippery=False)\n",
        "policy = first_visit_monte_carlo(env)\n",
        "visualize_policy(policy, env)\n",
        "env.close()"
      ],
      "metadata": {
        "colab": {
          "base_uri": "https://localhost:8080/",
          "height": 509
        },
        "id": "3fgjpnFg4ioM",
        "outputId": "e81aa42e-f88d-4f5a-a55c-bcf10bd45142"
      },
      "execution_count": null,
      "outputs": [
        {
          "output_type": "stream",
          "name": "stdout",
          "text": [
            "Optimal Policy:\n",
            "↓ → ↓ ←\n",
            "↓ ↓ ↓ →\n",
            "→ → ↓ ←\n",
            "← → → ↓\n"
          ]
        },
        {
          "output_type": "display_data",
          "data": {
            "text/plain": [
              "<Figure size 500x500 with 1 Axes>"
            ],
            "image/png": "[encoded data removed]"
          },
          "metadata": {}
        }
      ]
    }
  ]
}