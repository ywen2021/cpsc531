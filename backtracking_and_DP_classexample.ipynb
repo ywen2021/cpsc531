{
  "nbformat": 4,
  "nbformat_minor": 0,
  "metadata": {
    "colab": {
      "provenance": []
    },
    "kernelspec": {
      "name": "python3",
      "display_name": "Python 3"
    },
    "language_info": {
      "name": "python"
    }
  },
  "cells": [
    {
      "cell_type": "code",
      "source": [
        "import sys\n",
        "sys.setrecursionlimit(10000)\n",
        "\n",
        "### Model (search problem)\n",
        "\n",
        "class TransportationProblem(object):\n",
        "    def __init__(self, N):\n",
        "        # N = number of blocks\n",
        "        self.N = N\n",
        "    def startState(self):\n",
        "        return 1\n",
        "    def isEnd(self, state):\n",
        "        return state == self.N\n",
        "    def succAndCost(self, state):\n",
        "        # Returns list of (action, newState, cost) triples\n",
        "        result = []\n",
        "        if state + 1 <= self.N:\n",
        "            result.append(('walk', state + 1, 1))\n",
        "        if 2 * state <= self.N:\n",
        "            result.append(('tram', 2 * state, 2))\n",
        "        return result\n",
        "\n",
        "### Inference (search algorithms)\n",
        "\n",
        "def printSolution(solution):\n",
        "    totalCost, history = solution\n",
        "    print ('totalCost:', totalCost)\n",
        "    for item in history:\n",
        "        print( item)\n",
        "\n",
        "def backtrackingSearch(problem):\n",
        "\n",
        "    bestTotalCost = [float('+inf')]\n",
        "    bestHistory = [None]\n",
        "    def recurse(state, history, totalCost):\n",
        "        # At |state| having undergone |history|, accumulated |totalCost|.\n",
        "        # Explore the rest of the subtree under |state|.\n",
        "        if problem.isEnd(state):\n",
        "            # Update the best solution so far\n",
        "            if totalCost < bestTotalCost[0]:\n",
        "                bestTotalCost[0] = totalCost\n",
        "                bestHistory[0] = history\n",
        "            return\n",
        "\n",
        "        # Recurse on children\n",
        "        for action, newState, cost in problem.succAndCost(state):\n",
        "            recurse(newState, history + [(action, newState, cost)], totalCost + cost)\n",
        "\n",
        "    recurse(problem.startState(), history=[], totalCost=0)\n",
        "    return (bestTotalCost[0], bestHistory[0])\n",
        "\n",
        "def dynamicProgramming(problem):\n",
        "    cache = {}  # state => futureCost(state), action, newState, cost\n",
        "    def futureCost(state):\n",
        "        # Base case\n",
        "        if problem.isEnd(state):\n",
        "            return 0\n",
        "        if state in cache:  # Exponential savings!\n",
        "            return cache[state][0]\n",
        "        # Actually do work\n",
        "        result = min((cost + futureCost(newState), action, newState, cost) \\\n",
        "            for action, newState, cost in problem.succAndCost(state))\n",
        "        cache[state] = result\n",
        "        return result[0]\n",
        "\n",
        "    state = problem.startState()\n",
        "    totalCost = futureCost(state)\n",
        "\n",
        "    # Recover history\n",
        "    history = []\n",
        "    while not problem.isEnd(state):\n",
        "        _, action, newState, cost = cache[state]\n",
        "        history.append((action, newState, cost))\n",
        "        state = newState\n",
        "\n",
        "    return (totalCost, history)\n",
        "# def dynamicProgramming(problem):\n",
        "#     cache = {}  # state => futureCost(state), action, newState, cost\n",
        "#     def futureCost(state):\n",
        "#         # Base case\n",
        "#         if problem.isEnd(state):\n",
        "#             return 0\n",
        "#         if state in cache:  # Exponential savings!\n",
        "#             return cache[state]\n",
        "#         # Actually do work\n",
        "#         result = min(cost + futureCost(newState)\\\n",
        "#             for action, newState, cost in problem.succAndCost(state))\n",
        "#         cache[state] = result\n",
        "#         return result\n",
        "\n",
        "\n",
        "#     return (futureCost(problem.startState()),[])\n",
        "\n",
        "### Main\n",
        "\n",
        "problem = TransportationProblem(N=10)\n",
        "print (problem.succAndCost(3))\n",
        "print (problem.succAndCost(9))\n",
        "printSolution(backtrackingSearch(problem))\n",
        "printSolution(dynamicProgramming(problem))\n",
        "\n"
      ],
      "metadata": {
        "colab": {
          "base_uri": "https://localhost:8080/"
        },
        "id": "y9j1RWtEqs8R",
        "outputId": "89ce4d21-9ffb-4738-9477-28da60066c51"
      },
      "execution_count": null,
      "outputs": [
        {
          "output_type": "stream",
          "name": "stdout",
          "text": [
            "[('walk', 4, 1), ('tram', 6, 2)]\n",
            "[('walk', 10, 1)]\n",
            "totalCost: 6\n",
            "('walk', 2, 1)\n",
            "('walk', 3, 1)\n",
            "('walk', 4, 1)\n",
            "('walk', 5, 1)\n",
            "('tram', 10, 2)\n",
            "totalCost: 6\n",
            "('walk', 2, 1)\n",
            "('tram', 4, 2)\n",
            "('walk', 5, 1)\n",
            "('tram', 10, 2)\n"
          ]
        }
      ]
    },
    {
      "cell_type": "code",
      "source": [
        "printSolution(dynamicProgramming(problem))"
      ],
      "metadata": {
        "colab": {
          "base_uri": "https://localhost:8080/"
        },
        "id": "0vIe0QkhOlAn",
        "outputId": "bc725f64-1f4c-495b-8c51-2f2f5f0c7e35"
      },
      "execution_count": null,
      "outputs": [
        {
          "output_type": "stream",
          "name": "stdout",
          "text": [
            "totalCost: 6\n",
            "('walk', 2, 1)\n",
            "('tram', 4, 2)\n",
            "('walk', 5, 1)\n",
            "('tram', 10, 2)\n"
          ]
        }
      ]
    }
  ]
}